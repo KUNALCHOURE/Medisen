{
 "cells": [
  {
   "cell_type": "code",
   "execution_count": 12,
   "id": "e88d91a3",
   "metadata": {
    "id": "e88d91a3"
   },
   "outputs": [],
   "source": [
    "import csv\n",
    "import pandas as pd\n",
    "import numpy as np\n",
    "from collections import defaultdict\n",
    "import seaborn as sns\n",
    "import matplotlib.pyplot as plt\n",
    "%matplotlib inline"
   ]
  },
  {
   "cell_type": "code",
   "execution_count": 4,
   "id": "i1dl-W9UFNMk",
   "metadata": {
    "colab": {
     "base_uri": "https://localhost:8080/"
    },
    "id": "i1dl-W9UFNMk",
    "outputId": "61060e5c-e777-4aed-e682-3b90a71383ae"
   },
   "outputs": [
    {
     "ename": "ModuleNotFoundError",
     "evalue": "No module named 'google.colab'",
     "output_type": "error",
     "traceback": [
      "\u001b[1;31m---------------------------------------------------------------------------\u001b[0m",
      "\u001b[1;31mModuleNotFoundError\u001b[0m                       Traceback (most recent call last)",
      "Cell \u001b[1;32mIn[4], line 1\u001b[0m\n\u001b[1;32m----> 1\u001b[0m \u001b[38;5;28;01mfrom\u001b[39;00m \u001b[38;5;21;01mgoogle\u001b[39;00m\u001b[38;5;21;01m.\u001b[39;00m\u001b[38;5;21;01mcolab\u001b[39;00m \u001b[38;5;28;01mimport\u001b[39;00m drive\n\u001b[0;32m      2\u001b[0m drive\u001b[38;5;241m.\u001b[39mmount(\u001b[38;5;124m'\u001b[39m\u001b[38;5;124m/content/drive\u001b[39m\u001b[38;5;124m'\u001b[39m)\n",
      "\u001b[1;31mModuleNotFoundError\u001b[0m: No module named 'google.colab'"
     ]
    }
   ],
   "source": []
  },
  {
   "cell_type": "code",
   "execution_count": 5,
   "id": "646f726a",
   "metadata": {
    "id": "646f726a"
   },
   "outputs": [
    {
     "ename": "NameError",
     "evalue": "name 'df_concat' is not defined",
     "output_type": "error",
     "traceback": [
      "\u001b[1;31m---------------------------------------------------------------------------\u001b[0m",
      "\u001b[1;31mNameError\u001b[0m                                 Traceback (most recent call last)",
      "Cell \u001b[1;32mIn[5], line 1\u001b[0m\n\u001b[1;32m----> 1\u001b[0m df_concat\u001b[38;5;241m.\u001b[39mto_csv(\u001b[38;5;124m\"\u001b[39m\u001b[38;5;124m/content/drive/MyDrive/Solving For India Hackathon/training_dataset.csv\u001b[39m\u001b[38;5;124m\"\u001b[39m, index\u001b[38;5;241m=\u001b[39m\u001b[38;5;28;01mFalse\u001b[39;00m)\n",
      "\u001b[1;31mNameError\u001b[0m: name 'df_concat' is not defined"
     ]
    }
   ],
   "source": [
    "df_concat.to_csv(\"/content/drive/MyDrive/Solving For India Hackathon/training_dataset.csv\", index=False)"
   ]
  },
  {
   "cell_type": "code",
   "execution_count": 6,
   "id": "f0cd5ca7",
   "metadata": {
    "id": "f0cd5ca7"
   },
   "outputs": [
    {
     "ename": "NameError",
     "evalue": "name 'df_concat' is not defined",
     "output_type": "error",
     "traceback": [
      "\u001b[1;31m---------------------------------------------------------------------------\u001b[0m",
      "\u001b[1;31mNameError\u001b[0m                                 Traceback (most recent call last)",
      "Cell \u001b[1;32mIn[6], line 1\u001b[0m\n\u001b[1;32m----> 1\u001b[0m X \u001b[38;5;241m=\u001b[39m df_concat[cols]\n\u001b[0;32m      2\u001b[0m y \u001b[38;5;241m=\u001b[39m df_concat[\u001b[38;5;124m'\u001b[39m\u001b[38;5;124mdisease\u001b[39m\u001b[38;5;124m'\u001b[39m]\n",
      "\u001b[1;31mNameError\u001b[0m: name 'df_concat' is not defined"
     ]
    }
   ],
   "source": [
    "X = df_concat[cols]\n",
    "y = df_concat['disease']"
   ]
  },
  {
   "cell_type": "markdown",
   "id": "jwzImTlqQs_f",
   "metadata": {
    "id": "jwzImTlqQs_f"
   },
   "source": [
    "## Train Model"
   ]
  },
  {
   "cell_type": "code",
   "execution_count": 7,
   "id": "61ff5761",
   "metadata": {
    "colab": {
     "base_uri": "https://localhost:8080/"
    },
    "id": "61ff5761",
    "outputId": "c059cb7e-3b75-4292-eeae-2f7adf6a3e69"
   },
   "outputs": [
    {
     "ename": "ModuleNotFoundError",
     "evalue": "No module named 'google.colab'",
     "output_type": "error",
     "traceback": [
      "\u001b[1;31m---------------------------------------------------------------------------\u001b[0m",
      "\u001b[1;31mModuleNotFoundError\u001b[0m                       Traceback (most recent call last)",
      "Cell \u001b[1;32mIn[7], line 1\u001b[0m\n\u001b[1;32m----> 1\u001b[0m \u001b[38;5;28;01mfrom\u001b[39;00m \u001b[38;5;21;01mgoogle\u001b[39;00m\u001b[38;5;21;01m.\u001b[39;00m\u001b[38;5;21;01mcolab\u001b[39;00m \u001b[38;5;28;01mimport\u001b[39;00m drive\n\u001b[0;32m      2\u001b[0m drive\u001b[38;5;241m.\u001b[39mmount(\u001b[38;5;124m'\u001b[39m\u001b[38;5;124m/content/drive\u001b[39m\u001b[38;5;124m'\u001b[39m)\n",
      "\u001b[1;31mModuleNotFoundError\u001b[0m: No module named 'google.colab'"
     ]
    }
   ],
   "source": [
    "from google.colab import drive\n",
    "drive.mount('/content/drive')"
   ]
  },
  {
   "cell_type": "code",
   "execution_count": 13,
   "id": "UafT0UYAQzht",
   "metadata": {
    "id": "UafT0UYAQzht"
   },
   "outputs": [],
   "source": [
    "import pandas as pd\n",
    "import numpy as np\n",
    "from sklearn.neighbors import KNeighborsClassifier\n",
    "from sklearn.metrics import classification_report"
   ]
  },
  {
   "cell_type": "code",
   "execution_count": 14,
   "id": "B2LOQEe-UJQb",
   "metadata": {
    "id": "B2LOQEe-UJQb"
   },
   "outputs": [],
   "source": [
    "data = pd.read_csv(\"Converted_Data_model.csv\")"
   ]
  },
  {
   "cell_type": "code",
   "execution_count": 15,
   "id": "-J17mpzOUdrH",
   "metadata": {
    "colab": {
     "base_uri": "https://localhost:8080/",
     "height": 748
    },
    "id": "-J17mpzOUdrH",
    "outputId": "91190cfb-0e40-4ace-938b-eaab6313cfa3"
   },
   "outputs": [
    {
     "data": {
      "text/html": [
       "<div>\n",
       "<style scoped>\n",
       "    .dataframe tbody tr th:only-of-type {\n",
       "        vertical-align: middle;\n",
       "    }\n",
       "\n",
       "    .dataframe tbody tr th {\n",
       "        vertical-align: top;\n",
       "    }\n",
       "\n",
       "    .dataframe thead th {\n",
       "        text-align: right;\n",
       "    }\n",
       "</style>\n",
       "<table border=\"1\" class=\"dataframe\">\n",
       "  <thead>\n",
       "    <tr style=\"text-align: right;\">\n",
       "      <th></th>\n",
       "      <th>Disease</th>\n",
       "      <th>abdomen acute</th>\n",
       "      <th>abdominal bloating</th>\n",
       "      <th>abdominal tenderness</th>\n",
       "      <th>abnormal sensation</th>\n",
       "      <th>abnormally hard consistency</th>\n",
       "      <th>abortion</th>\n",
       "      <th>abscess bacterial</th>\n",
       "      <th>absences finding</th>\n",
       "      <th>achalasia</th>\n",
       "      <th>...</th>\n",
       "      <th>vision blurred</th>\n",
       "      <th>vomiting</th>\n",
       "      <th>weepiness</th>\n",
       "      <th>weight gain</th>\n",
       "      <th>welt</th>\n",
       "      <th>wheelchair bound</th>\n",
       "      <th>wheezing</th>\n",
       "      <th>withdraw</th>\n",
       "      <th>worry</th>\n",
       "      <th>yellow sputum</th>\n",
       "    </tr>\n",
       "  </thead>\n",
       "  <tbody>\n",
       "    <tr>\n",
       "      <th>0</th>\n",
       "      <td>accident cerebrovascular</td>\n",
       "      <td>0</td>\n",
       "      <td>0</td>\n",
       "      <td>0</td>\n",
       "      <td>0</td>\n",
       "      <td>0</td>\n",
       "      <td>0</td>\n",
       "      <td>0</td>\n",
       "      <td>0</td>\n",
       "      <td>0</td>\n",
       "      <td>...</td>\n",
       "      <td>0</td>\n",
       "      <td>0</td>\n",
       "      <td>0</td>\n",
       "      <td>0</td>\n",
       "      <td>0</td>\n",
       "      <td>0</td>\n",
       "      <td>0</td>\n",
       "      <td>0</td>\n",
       "      <td>0</td>\n",
       "      <td>0</td>\n",
       "    </tr>\n",
       "    <tr>\n",
       "      <th>1</th>\n",
       "      <td>adenocarcinoma</td>\n",
       "      <td>0</td>\n",
       "      <td>0</td>\n",
       "      <td>0</td>\n",
       "      <td>0</td>\n",
       "      <td>0</td>\n",
       "      <td>0</td>\n",
       "      <td>0</td>\n",
       "      <td>0</td>\n",
       "      <td>0</td>\n",
       "      <td>...</td>\n",
       "      <td>0</td>\n",
       "      <td>0</td>\n",
       "      <td>0</td>\n",
       "      <td>0</td>\n",
       "      <td>0</td>\n",
       "      <td>0</td>\n",
       "      <td>0</td>\n",
       "      <td>0</td>\n",
       "      <td>0</td>\n",
       "      <td>0</td>\n",
       "    </tr>\n",
       "    <tr>\n",
       "      <th>2</th>\n",
       "      <td>adhesion</td>\n",
       "      <td>0</td>\n",
       "      <td>0</td>\n",
       "      <td>0</td>\n",
       "      <td>0</td>\n",
       "      <td>0</td>\n",
       "      <td>0</td>\n",
       "      <td>0</td>\n",
       "      <td>0</td>\n",
       "      <td>0</td>\n",
       "      <td>...</td>\n",
       "      <td>0</td>\n",
       "      <td>1</td>\n",
       "      <td>0</td>\n",
       "      <td>0</td>\n",
       "      <td>0</td>\n",
       "      <td>0</td>\n",
       "      <td>0</td>\n",
       "      <td>0</td>\n",
       "      <td>0</td>\n",
       "      <td>0</td>\n",
       "    </tr>\n",
       "    <tr>\n",
       "      <th>3</th>\n",
       "      <td>affect labile</td>\n",
       "      <td>0</td>\n",
       "      <td>0</td>\n",
       "      <td>0</td>\n",
       "      <td>0</td>\n",
       "      <td>0</td>\n",
       "      <td>0</td>\n",
       "      <td>0</td>\n",
       "      <td>0</td>\n",
       "      <td>0</td>\n",
       "      <td>...</td>\n",
       "      <td>0</td>\n",
       "      <td>0</td>\n",
       "      <td>0</td>\n",
       "      <td>0</td>\n",
       "      <td>0</td>\n",
       "      <td>0</td>\n",
       "      <td>0</td>\n",
       "      <td>0</td>\n",
       "      <td>0</td>\n",
       "      <td>0</td>\n",
       "    </tr>\n",
       "    <tr>\n",
       "      <th>4</th>\n",
       "      <td>Alzheimer's disease</td>\n",
       "      <td>0</td>\n",
       "      <td>0</td>\n",
       "      <td>0</td>\n",
       "      <td>0</td>\n",
       "      <td>0</td>\n",
       "      <td>0</td>\n",
       "      <td>0</td>\n",
       "      <td>0</td>\n",
       "      <td>0</td>\n",
       "      <td>...</td>\n",
       "      <td>0</td>\n",
       "      <td>0</td>\n",
       "      <td>0</td>\n",
       "      <td>0</td>\n",
       "      <td>0</td>\n",
       "      <td>1</td>\n",
       "      <td>0</td>\n",
       "      <td>0</td>\n",
       "      <td>0</td>\n",
       "      <td>0</td>\n",
       "    </tr>\n",
       "    <tr>\n",
       "      <th>...</th>\n",
       "      <td>...</td>\n",
       "      <td>...</td>\n",
       "      <td>...</td>\n",
       "      <td>...</td>\n",
       "      <td>...</td>\n",
       "      <td>...</td>\n",
       "      <td>...</td>\n",
       "      <td>...</td>\n",
       "      <td>...</td>\n",
       "      <td>...</td>\n",
       "      <td>...</td>\n",
       "      <td>...</td>\n",
       "      <td>...</td>\n",
       "      <td>...</td>\n",
       "      <td>...</td>\n",
       "      <td>...</td>\n",
       "      <td>...</td>\n",
       "      <td>...</td>\n",
       "      <td>...</td>\n",
       "      <td>...</td>\n",
       "      <td>...</td>\n",
       "    </tr>\n",
       "    <tr>\n",
       "      <th>133</th>\n",
       "      <td>effusion pericardial</td>\n",
       "      <td>0</td>\n",
       "      <td>0</td>\n",
       "      <td>0</td>\n",
       "      <td>0</td>\n",
       "      <td>0</td>\n",
       "      <td>0</td>\n",
       "      <td>0</td>\n",
       "      <td>0</td>\n",
       "      <td>0</td>\n",
       "      <td>...</td>\n",
       "      <td>0</td>\n",
       "      <td>0</td>\n",
       "      <td>0</td>\n",
       "      <td>0</td>\n",
       "      <td>0</td>\n",
       "      <td>0</td>\n",
       "      <td>0</td>\n",
       "      <td>0</td>\n",
       "      <td>0</td>\n",
       "      <td>0</td>\n",
       "    </tr>\n",
       "    <tr>\n",
       "      <th>134</th>\n",
       "      <td>septicemia</td>\n",
       "      <td>0</td>\n",
       "      <td>0</td>\n",
       "      <td>0</td>\n",
       "      <td>0</td>\n",
       "      <td>0</td>\n",
       "      <td>0</td>\n",
       "      <td>0</td>\n",
       "      <td>0</td>\n",
       "      <td>0</td>\n",
       "      <td>...</td>\n",
       "      <td>0</td>\n",
       "      <td>0</td>\n",
       "      <td>0</td>\n",
       "      <td>0</td>\n",
       "      <td>0</td>\n",
       "      <td>0</td>\n",
       "      <td>0</td>\n",
       "      <td>0</td>\n",
       "      <td>0</td>\n",
       "      <td>0</td>\n",
       "    </tr>\n",
       "    <tr>\n",
       "      <th>135</th>\n",
       "      <td>carcinoma of lung</td>\n",
       "      <td>0</td>\n",
       "      <td>0</td>\n",
       "      <td>0</td>\n",
       "      <td>0</td>\n",
       "      <td>0</td>\n",
       "      <td>0</td>\n",
       "      <td>0</td>\n",
       "      <td>0</td>\n",
       "      <td>0</td>\n",
       "      <td>...</td>\n",
       "      <td>0</td>\n",
       "      <td>0</td>\n",
       "      <td>0</td>\n",
       "      <td>0</td>\n",
       "      <td>0</td>\n",
       "      <td>0</td>\n",
       "      <td>0</td>\n",
       "      <td>0</td>\n",
       "      <td>0</td>\n",
       "      <td>0</td>\n",
       "    </tr>\n",
       "    <tr>\n",
       "      <th>136</th>\n",
       "      <td>carcinoma prostate</td>\n",
       "      <td>0</td>\n",
       "      <td>0</td>\n",
       "      <td>0</td>\n",
       "      <td>0</td>\n",
       "      <td>0</td>\n",
       "      <td>0</td>\n",
       "      <td>0</td>\n",
       "      <td>0</td>\n",
       "      <td>0</td>\n",
       "      <td>...</td>\n",
       "      <td>0</td>\n",
       "      <td>0</td>\n",
       "      <td>0</td>\n",
       "      <td>0</td>\n",
       "      <td>0</td>\n",
       "      <td>0</td>\n",
       "      <td>0</td>\n",
       "      <td>0</td>\n",
       "      <td>0</td>\n",
       "      <td>0</td>\n",
       "    </tr>\n",
       "    <tr>\n",
       "      <th>137</th>\n",
       "      <td>upper respiratory infection</td>\n",
       "      <td>0</td>\n",
       "      <td>0</td>\n",
       "      <td>0</td>\n",
       "      <td>0</td>\n",
       "      <td>0</td>\n",
       "      <td>0</td>\n",
       "      <td>0</td>\n",
       "      <td>0</td>\n",
       "      <td>0</td>\n",
       "      <td>...</td>\n",
       "      <td>0</td>\n",
       "      <td>0</td>\n",
       "      <td>0</td>\n",
       "      <td>0</td>\n",
       "      <td>0</td>\n",
       "      <td>0</td>\n",
       "      <td>1</td>\n",
       "      <td>0</td>\n",
       "      <td>0</td>\n",
       "      <td>0</td>\n",
       "    </tr>\n",
       "  </tbody>\n",
       "</table>\n",
       "<p>138 rows × 401 columns</p>\n",
       "</div>"
      ],
      "text/plain": [
       "                         Disease  abdomen acute  abdominal bloating  \\\n",
       "0       accident cerebrovascular              0                   0   \n",
       "1                 adenocarcinoma              0                   0   \n",
       "2                       adhesion              0                   0   \n",
       "3                  affect labile              0                   0   \n",
       "4            Alzheimer's disease              0                   0   \n",
       "..                           ...            ...                 ...   \n",
       "133         effusion pericardial              0                   0   \n",
       "134                   septicemia              0                   0   \n",
       "135            carcinoma of lung              0                   0   \n",
       "136           carcinoma prostate              0                   0   \n",
       "137  upper respiratory infection              0                   0   \n",
       "\n",
       "     abdominal tenderness  abnormal sensation  abnormally hard consistency  \\\n",
       "0                       0                   0                            0   \n",
       "1                       0                   0                            0   \n",
       "2                       0                   0                            0   \n",
       "3                       0                   0                            0   \n",
       "4                       0                   0                            0   \n",
       "..                    ...                 ...                          ...   \n",
       "133                     0                   0                            0   \n",
       "134                     0                   0                            0   \n",
       "135                     0                   0                            0   \n",
       "136                     0                   0                            0   \n",
       "137                     0                   0                            0   \n",
       "\n",
       "     abortion  abscess bacterial  absences finding  achalasia  ...  \\\n",
       "0           0                  0                 0          0  ...   \n",
       "1           0                  0                 0          0  ...   \n",
       "2           0                  0                 0          0  ...   \n",
       "3           0                  0                 0          0  ...   \n",
       "4           0                  0                 0          0  ...   \n",
       "..        ...                ...               ...        ...  ...   \n",
       "133         0                  0                 0          0  ...   \n",
       "134         0                  0                 0          0  ...   \n",
       "135         0                  0                 0          0  ...   \n",
       "136         0                  0                 0          0  ...   \n",
       "137         0                  0                 0          0  ...   \n",
       "\n",
       "     vision blurred  vomiting  weepiness  weight gain  welt  wheelchair bound  \\\n",
       "0                 0         0          0            0     0                 0   \n",
       "1                 0         0          0            0     0                 0   \n",
       "2                 0         1          0            0     0                 0   \n",
       "3                 0         0          0            0     0                 0   \n",
       "4                 0         0          0            0     0                 1   \n",
       "..              ...       ...        ...          ...   ...               ...   \n",
       "133               0         0          0            0     0                 0   \n",
       "134               0         0          0            0     0                 0   \n",
       "135               0         0          0            0     0                 0   \n",
       "136               0         0          0            0     0                 0   \n",
       "137               0         0          0            0     0                 0   \n",
       "\n",
       "     wheezing  withdraw  worry  yellow sputum  \n",
       "0           0         0      0              0  \n",
       "1           0         0      0              0  \n",
       "2           0         0      0              0  \n",
       "3           0         0      0              0  \n",
       "4           0         0      0              0  \n",
       "..        ...       ...    ...            ...  \n",
       "133         0         0      0              0  \n",
       "134         0         0      0              0  \n",
       "135         0         0      0              0  \n",
       "136         0         0      0              0  \n",
       "137         1         0      0              0  \n",
       "\n",
       "[138 rows x 401 columns]"
      ]
     },
     "execution_count": 15,
     "metadata": {},
     "output_type": "execute_result"
    }
   ],
   "source": [
    "data"
   ]
  },
  {
   "cell_type": "code",
   "execution_count": 16,
   "id": "vy4JsajWXucX",
   "metadata": {
    "id": "vy4JsajWXucX"
   },
   "outputs": [],
   "source": [
    "y_train=data[\"Disease\"]\n",
    "X_train = data.iloc[:,1:]\n",
    "y_test = \"HIV\"\n",
    "X_test = [data.iloc[1, 1:]]"
   ]
  },
  {
   "cell_type": "code",
   "execution_count": 17,
   "id": "jvIxDNPGX5-D",
   "metadata": {
    "colab": {
     "base_uri": "https://localhost:8080/"
    },
    "id": "jvIxDNPGX5-D",
    "outputId": "2193ea29-fcb8-4b3e-e481-a90ec62ea027"
   },
   "outputs": [
    {
     "data": {
      "text/plain": [
       "0         accident cerebrovascular\n",
       "1                   adenocarcinoma\n",
       "2                         adhesion\n",
       "3                    affect labile\n",
       "4              Alzheimer's disease\n",
       "                  ...             \n",
       "133           effusion pericardial\n",
       "134                     septicemia\n",
       "135              carcinoma of lung\n",
       "136             carcinoma prostate\n",
       "137    upper respiratory infection\n",
       "Name: Disease, Length: 138, dtype: object"
      ]
     },
     "execution_count": 17,
     "metadata": {},
     "output_type": "execute_result"
    }
   ],
   "source": [
    "y_train"
   ]
  },
  {
   "cell_type": "code",
   "execution_count": 18,
   "id": "dTtHoXaqY7xy",
   "metadata": {
    "colab": {
     "base_uri": "https://localhost:8080/",
     "height": 540
    },
    "id": "dTtHoXaqY7xy",
    "outputId": "754b61b9-d34c-40d4-d961-492bcecf6fcb"
   },
   "outputs": [
    {
     "data": {
      "text/html": [
       "<div>\n",
       "<style scoped>\n",
       "    .dataframe tbody tr th:only-of-type {\n",
       "        vertical-align: middle;\n",
       "    }\n",
       "\n",
       "    .dataframe tbody tr th {\n",
       "        vertical-align: top;\n",
       "    }\n",
       "\n",
       "    .dataframe thead th {\n",
       "        text-align: right;\n",
       "    }\n",
       "</style>\n",
       "<table border=\"1\" class=\"dataframe\">\n",
       "  <thead>\n",
       "    <tr style=\"text-align: right;\">\n",
       "      <th></th>\n",
       "      <th>abdomen acute</th>\n",
       "      <th>abdominal bloating</th>\n",
       "      <th>abdominal tenderness</th>\n",
       "      <th>abnormal sensation</th>\n",
       "      <th>abnormally hard consistency</th>\n",
       "      <th>abortion</th>\n",
       "      <th>abscess bacterial</th>\n",
       "      <th>absences finding</th>\n",
       "      <th>achalasia</th>\n",
       "      <th>ache</th>\n",
       "      <th>...</th>\n",
       "      <th>vision blurred</th>\n",
       "      <th>vomiting</th>\n",
       "      <th>weepiness</th>\n",
       "      <th>weight gain</th>\n",
       "      <th>welt</th>\n",
       "      <th>wheelchair bound</th>\n",
       "      <th>wheezing</th>\n",
       "      <th>withdraw</th>\n",
       "      <th>worry</th>\n",
       "      <th>yellow sputum</th>\n",
       "    </tr>\n",
       "  </thead>\n",
       "  <tbody>\n",
       "    <tr>\n",
       "      <th>0</th>\n",
       "      <td>0</td>\n",
       "      <td>0</td>\n",
       "      <td>0</td>\n",
       "      <td>0</td>\n",
       "      <td>0</td>\n",
       "      <td>0</td>\n",
       "      <td>0</td>\n",
       "      <td>0</td>\n",
       "      <td>0</td>\n",
       "      <td>0</td>\n",
       "      <td>...</td>\n",
       "      <td>0</td>\n",
       "      <td>0</td>\n",
       "      <td>0</td>\n",
       "      <td>0</td>\n",
       "      <td>0</td>\n",
       "      <td>0</td>\n",
       "      <td>0</td>\n",
       "      <td>0</td>\n",
       "      <td>0</td>\n",
       "      <td>0</td>\n",
       "    </tr>\n",
       "    <tr>\n",
       "      <th>1</th>\n",
       "      <td>0</td>\n",
       "      <td>0</td>\n",
       "      <td>0</td>\n",
       "      <td>0</td>\n",
       "      <td>0</td>\n",
       "      <td>0</td>\n",
       "      <td>0</td>\n",
       "      <td>0</td>\n",
       "      <td>0</td>\n",
       "      <td>0</td>\n",
       "      <td>...</td>\n",
       "      <td>0</td>\n",
       "      <td>0</td>\n",
       "      <td>0</td>\n",
       "      <td>0</td>\n",
       "      <td>0</td>\n",
       "      <td>0</td>\n",
       "      <td>0</td>\n",
       "      <td>0</td>\n",
       "      <td>0</td>\n",
       "      <td>0</td>\n",
       "    </tr>\n",
       "    <tr>\n",
       "      <th>2</th>\n",
       "      <td>0</td>\n",
       "      <td>0</td>\n",
       "      <td>0</td>\n",
       "      <td>0</td>\n",
       "      <td>0</td>\n",
       "      <td>0</td>\n",
       "      <td>0</td>\n",
       "      <td>0</td>\n",
       "      <td>0</td>\n",
       "      <td>0</td>\n",
       "      <td>...</td>\n",
       "      <td>0</td>\n",
       "      <td>1</td>\n",
       "      <td>0</td>\n",
       "      <td>0</td>\n",
       "      <td>0</td>\n",
       "      <td>0</td>\n",
       "      <td>0</td>\n",
       "      <td>0</td>\n",
       "      <td>0</td>\n",
       "      <td>0</td>\n",
       "    </tr>\n",
       "    <tr>\n",
       "      <th>3</th>\n",
       "      <td>0</td>\n",
       "      <td>0</td>\n",
       "      <td>0</td>\n",
       "      <td>0</td>\n",
       "      <td>0</td>\n",
       "      <td>0</td>\n",
       "      <td>0</td>\n",
       "      <td>0</td>\n",
       "      <td>0</td>\n",
       "      <td>0</td>\n",
       "      <td>...</td>\n",
       "      <td>0</td>\n",
       "      <td>0</td>\n",
       "      <td>0</td>\n",
       "      <td>0</td>\n",
       "      <td>0</td>\n",
       "      <td>0</td>\n",
       "      <td>0</td>\n",
       "      <td>0</td>\n",
       "      <td>0</td>\n",
       "      <td>0</td>\n",
       "    </tr>\n",
       "    <tr>\n",
       "      <th>4</th>\n",
       "      <td>0</td>\n",
       "      <td>0</td>\n",
       "      <td>0</td>\n",
       "      <td>0</td>\n",
       "      <td>0</td>\n",
       "      <td>0</td>\n",
       "      <td>0</td>\n",
       "      <td>0</td>\n",
       "      <td>0</td>\n",
       "      <td>0</td>\n",
       "      <td>...</td>\n",
       "      <td>0</td>\n",
       "      <td>0</td>\n",
       "      <td>0</td>\n",
       "      <td>0</td>\n",
       "      <td>0</td>\n",
       "      <td>1</td>\n",
       "      <td>0</td>\n",
       "      <td>0</td>\n",
       "      <td>0</td>\n",
       "      <td>0</td>\n",
       "    </tr>\n",
       "    <tr>\n",
       "      <th>...</th>\n",
       "      <td>...</td>\n",
       "      <td>...</td>\n",
       "      <td>...</td>\n",
       "      <td>...</td>\n",
       "      <td>...</td>\n",
       "      <td>...</td>\n",
       "      <td>...</td>\n",
       "      <td>...</td>\n",
       "      <td>...</td>\n",
       "      <td>...</td>\n",
       "      <td>...</td>\n",
       "      <td>...</td>\n",
       "      <td>...</td>\n",
       "      <td>...</td>\n",
       "      <td>...</td>\n",
       "      <td>...</td>\n",
       "      <td>...</td>\n",
       "      <td>...</td>\n",
       "      <td>...</td>\n",
       "      <td>...</td>\n",
       "      <td>...</td>\n",
       "    </tr>\n",
       "    <tr>\n",
       "      <th>133</th>\n",
       "      <td>0</td>\n",
       "      <td>0</td>\n",
       "      <td>0</td>\n",
       "      <td>0</td>\n",
       "      <td>0</td>\n",
       "      <td>0</td>\n",
       "      <td>0</td>\n",
       "      <td>0</td>\n",
       "      <td>0</td>\n",
       "      <td>0</td>\n",
       "      <td>...</td>\n",
       "      <td>0</td>\n",
       "      <td>0</td>\n",
       "      <td>0</td>\n",
       "      <td>0</td>\n",
       "      <td>0</td>\n",
       "      <td>0</td>\n",
       "      <td>0</td>\n",
       "      <td>0</td>\n",
       "      <td>0</td>\n",
       "      <td>0</td>\n",
       "    </tr>\n",
       "    <tr>\n",
       "      <th>134</th>\n",
       "      <td>0</td>\n",
       "      <td>0</td>\n",
       "      <td>0</td>\n",
       "      <td>0</td>\n",
       "      <td>0</td>\n",
       "      <td>0</td>\n",
       "      <td>0</td>\n",
       "      <td>0</td>\n",
       "      <td>0</td>\n",
       "      <td>0</td>\n",
       "      <td>...</td>\n",
       "      <td>0</td>\n",
       "      <td>0</td>\n",
       "      <td>0</td>\n",
       "      <td>0</td>\n",
       "      <td>0</td>\n",
       "      <td>0</td>\n",
       "      <td>0</td>\n",
       "      <td>0</td>\n",
       "      <td>0</td>\n",
       "      <td>0</td>\n",
       "    </tr>\n",
       "    <tr>\n",
       "      <th>135</th>\n",
       "      <td>0</td>\n",
       "      <td>0</td>\n",
       "      <td>0</td>\n",
       "      <td>0</td>\n",
       "      <td>0</td>\n",
       "      <td>0</td>\n",
       "      <td>0</td>\n",
       "      <td>0</td>\n",
       "      <td>0</td>\n",
       "      <td>1</td>\n",
       "      <td>...</td>\n",
       "      <td>0</td>\n",
       "      <td>0</td>\n",
       "      <td>0</td>\n",
       "      <td>0</td>\n",
       "      <td>0</td>\n",
       "      <td>0</td>\n",
       "      <td>0</td>\n",
       "      <td>0</td>\n",
       "      <td>0</td>\n",
       "      <td>0</td>\n",
       "    </tr>\n",
       "    <tr>\n",
       "      <th>136</th>\n",
       "      <td>0</td>\n",
       "      <td>0</td>\n",
       "      <td>0</td>\n",
       "      <td>0</td>\n",
       "      <td>0</td>\n",
       "      <td>0</td>\n",
       "      <td>0</td>\n",
       "      <td>0</td>\n",
       "      <td>0</td>\n",
       "      <td>0</td>\n",
       "      <td>...</td>\n",
       "      <td>0</td>\n",
       "      <td>0</td>\n",
       "      <td>0</td>\n",
       "      <td>0</td>\n",
       "      <td>0</td>\n",
       "      <td>0</td>\n",
       "      <td>0</td>\n",
       "      <td>0</td>\n",
       "      <td>0</td>\n",
       "      <td>0</td>\n",
       "    </tr>\n",
       "    <tr>\n",
       "      <th>137</th>\n",
       "      <td>0</td>\n",
       "      <td>0</td>\n",
       "      <td>0</td>\n",
       "      <td>0</td>\n",
       "      <td>0</td>\n",
       "      <td>0</td>\n",
       "      <td>0</td>\n",
       "      <td>0</td>\n",
       "      <td>0</td>\n",
       "      <td>0</td>\n",
       "      <td>...</td>\n",
       "      <td>0</td>\n",
       "      <td>0</td>\n",
       "      <td>0</td>\n",
       "      <td>0</td>\n",
       "      <td>0</td>\n",
       "      <td>0</td>\n",
       "      <td>1</td>\n",
       "      <td>0</td>\n",
       "      <td>0</td>\n",
       "      <td>0</td>\n",
       "    </tr>\n",
       "  </tbody>\n",
       "</table>\n",
       "<p>138 rows × 400 columns</p>\n",
       "</div>"
      ],
      "text/plain": [
       "     abdomen acute  abdominal bloating  abdominal tenderness  \\\n",
       "0                0                   0                     0   \n",
       "1                0                   0                     0   \n",
       "2                0                   0                     0   \n",
       "3                0                   0                     0   \n",
       "4                0                   0                     0   \n",
       "..             ...                 ...                   ...   \n",
       "133              0                   0                     0   \n",
       "134              0                   0                     0   \n",
       "135              0                   0                     0   \n",
       "136              0                   0                     0   \n",
       "137              0                   0                     0   \n",
       "\n",
       "     abnormal sensation  abnormally hard consistency  abortion  \\\n",
       "0                     0                            0         0   \n",
       "1                     0                            0         0   \n",
       "2                     0                            0         0   \n",
       "3                     0                            0         0   \n",
       "4                     0                            0         0   \n",
       "..                  ...                          ...       ...   \n",
       "133                   0                            0         0   \n",
       "134                   0                            0         0   \n",
       "135                   0                            0         0   \n",
       "136                   0                            0         0   \n",
       "137                   0                            0         0   \n",
       "\n",
       "     abscess bacterial  absences finding  achalasia  ache  ...  \\\n",
       "0                    0                 0          0     0  ...   \n",
       "1                    0                 0          0     0  ...   \n",
       "2                    0                 0          0     0  ...   \n",
       "3                    0                 0          0     0  ...   \n",
       "4                    0                 0          0     0  ...   \n",
       "..                 ...               ...        ...   ...  ...   \n",
       "133                  0                 0          0     0  ...   \n",
       "134                  0                 0          0     0  ...   \n",
       "135                  0                 0          0     1  ...   \n",
       "136                  0                 0          0     0  ...   \n",
       "137                  0                 0          0     0  ...   \n",
       "\n",
       "     vision blurred  vomiting  weepiness  weight gain  welt  wheelchair bound  \\\n",
       "0                 0         0          0            0     0                 0   \n",
       "1                 0         0          0            0     0                 0   \n",
       "2                 0         1          0            0     0                 0   \n",
       "3                 0         0          0            0     0                 0   \n",
       "4                 0         0          0            0     0                 1   \n",
       "..              ...       ...        ...          ...   ...               ...   \n",
       "133               0         0          0            0     0                 0   \n",
       "134               0         0          0            0     0                 0   \n",
       "135               0         0          0            0     0                 0   \n",
       "136               0         0          0            0     0                 0   \n",
       "137               0         0          0            0     0                 0   \n",
       "\n",
       "     wheezing  withdraw  worry  yellow sputum  \n",
       "0           0         0      0              0  \n",
       "1           0         0      0              0  \n",
       "2           0         0      0              0  \n",
       "3           0         0      0              0  \n",
       "4           0         0      0              0  \n",
       "..        ...       ...    ...            ...  \n",
       "133         0         0      0              0  \n",
       "134         0         0      0              0  \n",
       "135         0         0      0              0  \n",
       "136         0         0      0              0  \n",
       "137         1         0      0              0  \n",
       "\n",
       "[138 rows x 400 columns]"
      ]
     },
     "execution_count": 18,
     "metadata": {},
     "output_type": "execute_result"
    }
   ],
   "source": [
    "X_train"
   ]
  },
  {
   "cell_type": "code",
   "execution_count": 19,
   "id": "QVe1IBGDcsEi",
   "metadata": {
    "colab": {
     "base_uri": "https://localhost:8080/"
    },
    "id": "QVe1IBGDcsEi",
    "outputId": "8ff9a61a-8724-4cf6-9597-c7a1a06c3ab3"
   },
   "outputs": [
    {
     "data": {
      "text/plain": [
       "[abdomen acute                  0\n",
       " abdominal bloating             0\n",
       " abdominal tenderness           0\n",
       " abnormal sensation             0\n",
       " abnormally hard consistency    0\n",
       "                               ..\n",
       " wheelchair bound               0\n",
       " wheezing                       0\n",
       " withdraw                       0\n",
       " worry                          0\n",
       " yellow sputum                  0\n",
       " Name: 1, Length: 400, dtype: object]"
      ]
     },
     "execution_count": 19,
     "metadata": {},
     "output_type": "execute_result"
    }
   ],
   "source": [
    "X_test"
   ]
  },
  {
   "cell_type": "code",
   "execution_count": 20,
   "id": "avIsHBk9y8pQ",
   "metadata": {
    "colab": {
     "base_uri": "https://localhost:8080/"
    },
    "id": "avIsHBk9y8pQ",
    "outputId": "5816763f-5ab9-4eb9-c1e8-a97d00da4c5b"
   },
   "outputs": [
    {
     "name": "stdout",
     "output_type": "stream",
     "text": [
      "0\n"
     ]
    },
    {
     "name": "stderr",
     "output_type": "stream",
     "text": [
      "C:\\Users\\Kunal\\AppData\\Local\\Temp\\ipykernel_25140\\4077801724.py:2: FutureWarning: Series.__getitem__ treating keys as positions is deprecated. In a future version, integer keys will always be treated as labels (consistent with DataFrame behavior). To access a value by position, use `ser.iloc[pos]`\n",
      "  print(test[78])\n"
     ]
    }
   ],
   "source": [
    "test = data.iloc[1, 1:]\n",
    "print(test[78])\n",
    "X_test = [test]"
   ]
  },
  {
   "cell_type": "code",
   "execution_count": 28,
   "id": "f52rmi0sGZaG",
   "metadata": {
    "colab": {
     "base_uri": "https://localhost:8080/"
    },
    "id": "f52rmi0sGZaG",
    "outputId": "14717b49-a201-4a5a-f9a2-b60ebe816943"
   },
   "outputs": [
    {
     "name": "stdout",
     "output_type": "stream",
     "text": [
      "0\n"
     ]
    }
   ],
   "source": [
    "import pandas as pd\n",
    "\n",
    "# Assuming `data` is already defined and contains your DataFrame\n",
    "ct = 0\n",
    "num_columns = data.shape[1]  # Get the number of columns\n",
    "\n",
    "for i in range(1, num_columns):\n",
    "    ct1 = 0\n",
    "    df = data.iloc[1:, i]\n",
    "    flag = False\n",
    "    for j in df:\n",
    "        if j == 1:\n",
    "            flag = True\n",
    "        else:\n",
    "            ct1 += 1\n",
    "    if ct1 > 146:\n",
    "        ct += 1\n",
    "\n",
    "print(ct)\n"
   ]
  },
  {
   "cell_type": "code",
   "execution_count": 22,
   "id": "v0gYuzqtUjbg",
   "metadata": {
    "colab": {
     "base_uri": "https://localhost:8080/",
     "height": 75
    },
    "id": "v0gYuzqtUjbg",
    "outputId": "f734abb7-767b-4a6c-fe7b-249f8e809f12"
   },
   "outputs": [
    {
     "data": {
      "text/html": [
       "<style>#sk-container-id-1 {color: black;}#sk-container-id-1 pre{padding: 0;}#sk-container-id-1 div.sk-toggleable {background-color: white;}#sk-container-id-1 label.sk-toggleable__label {cursor: pointer;display: block;width: 100%;margin-bottom: 0;padding: 0.3em;box-sizing: border-box;text-align: center;}#sk-container-id-1 label.sk-toggleable__label-arrow:before {content: \"▸\";float: left;margin-right: 0.25em;color: #696969;}#sk-container-id-1 label.sk-toggleable__label-arrow:hover:before {color: black;}#sk-container-id-1 div.sk-estimator:hover label.sk-toggleable__label-arrow:before {color: black;}#sk-container-id-1 div.sk-toggleable__content {max-height: 0;max-width: 0;overflow: hidden;text-align: left;background-color: #f0f8ff;}#sk-container-id-1 div.sk-toggleable__content pre {margin: 0.2em;color: black;border-radius: 0.25em;background-color: #f0f8ff;}#sk-container-id-1 input.sk-toggleable__control:checked~div.sk-toggleable__content {max-height: 200px;max-width: 100%;overflow: auto;}#sk-container-id-1 input.sk-toggleable__control:checked~label.sk-toggleable__label-arrow:before {content: \"▾\";}#sk-container-id-1 div.sk-estimator input.sk-toggleable__control:checked~label.sk-toggleable__label {background-color: #d4ebff;}#sk-container-id-1 div.sk-label input.sk-toggleable__control:checked~label.sk-toggleable__label {background-color: #d4ebff;}#sk-container-id-1 input.sk-hidden--visually {border: 0;clip: rect(1px 1px 1px 1px);clip: rect(1px, 1px, 1px, 1px);height: 1px;margin: -1px;overflow: hidden;padding: 0;position: absolute;width: 1px;}#sk-container-id-1 div.sk-estimator {font-family: monospace;background-color: #f0f8ff;border: 1px dotted black;border-radius: 0.25em;box-sizing: border-box;margin-bottom: 0.5em;}#sk-container-id-1 div.sk-estimator:hover {background-color: #d4ebff;}#sk-container-id-1 div.sk-parallel-item::after {content: \"\";width: 100%;border-bottom: 1px solid gray;flex-grow: 1;}#sk-container-id-1 div.sk-label:hover label.sk-toggleable__label {background-color: #d4ebff;}#sk-container-id-1 div.sk-serial::before {content: \"\";position: absolute;border-left: 1px solid gray;box-sizing: border-box;top: 0;bottom: 0;left: 50%;z-index: 0;}#sk-container-id-1 div.sk-serial {display: flex;flex-direction: column;align-items: center;background-color: white;padding-right: 0.2em;padding-left: 0.2em;position: relative;}#sk-container-id-1 div.sk-item {position: relative;z-index: 1;}#sk-container-id-1 div.sk-parallel {display: flex;align-items: stretch;justify-content: center;background-color: white;position: relative;}#sk-container-id-1 div.sk-item::before, #sk-container-id-1 div.sk-parallel-item::before {content: \"\";position: absolute;border-left: 1px solid gray;box-sizing: border-box;top: 0;bottom: 0;left: 50%;z-index: -1;}#sk-container-id-1 div.sk-parallel-item {display: flex;flex-direction: column;z-index: 1;position: relative;background-color: white;}#sk-container-id-1 div.sk-parallel-item:first-child::after {align-self: flex-end;width: 50%;}#sk-container-id-1 div.sk-parallel-item:last-child::after {align-self: flex-start;width: 50%;}#sk-container-id-1 div.sk-parallel-item:only-child::after {width: 0;}#sk-container-id-1 div.sk-dashed-wrapped {border: 1px dashed gray;margin: 0 0.4em 0.5em 0.4em;box-sizing: border-box;padding-bottom: 0.4em;background-color: white;}#sk-container-id-1 div.sk-label label {font-family: monospace;font-weight: bold;display: inline-block;line-height: 1.2em;}#sk-container-id-1 div.sk-label-container {text-align: center;}#sk-container-id-1 div.sk-container {/* jupyter's `normalize.less` sets `[hidden] { display: none; }` but bootstrap.min.css set `[hidden] { display: none !important; }` so we also need the `!important` here to be able to override the default hidden behavior on the sphinx rendered scikit-learn.org. See: https://github.com/scikit-learn/scikit-learn/issues/21755 */display: inline-block !important;position: relative;}#sk-container-id-1 div.sk-text-repr-fallback {display: none;}</style><div id=\"sk-container-id-1\" class=\"sk-top-container\"><div class=\"sk-text-repr-fallback\"><pre>KNeighborsClassifier()</pre><b>In a Jupyter environment, please rerun this cell to show the HTML representation or trust the notebook. <br />On GitHub, the HTML representation is unable to render, please try loading this page with nbviewer.org.</b></div><div class=\"sk-container\" hidden><div class=\"sk-item\"><div class=\"sk-estimator sk-toggleable\"><input class=\"sk-toggleable__control sk-hidden--visually\" id=\"sk-estimator-id-1\" type=\"checkbox\" checked><label for=\"sk-estimator-id-1\" class=\"sk-toggleable__label sk-toggleable__label-arrow\">KNeighborsClassifier</label><div class=\"sk-toggleable__content\"><pre>KNeighborsClassifier()</pre></div></div></div></div></div>"
      ],
      "text/plain": [
       "KNeighborsClassifier()"
      ]
     },
     "execution_count": 22,
     "metadata": {},
     "output_type": "execute_result"
    }
   ],
   "source": [
    "from sklearn.tree import DecisionTreeClassifier\n",
    "knn_clf = KNeighborsClassifier()\n",
    "knn_clf.fit(X_train,y_train)"
   ]
  },
  {
   "cell_type": "code",
   "execution_count": 23,
   "id": "D_pOUbeKbeik",
   "metadata": {
    "colab": {
     "base_uri": "https://localhost:8080/"
    },
    "id": "D_pOUbeKbeik",
    "outputId": "28adf674-e8e7-4b4f-fdc2-f39d2f76ab63"
   },
   "outputs": [
    {
     "name": "stderr",
     "output_type": "stream",
     "text": [
      "C:\\Users\\Kunal\\AppData\\Roaming\\Python\\Python312\\site-packages\\sklearn\\base.py:465: UserWarning: X does not have valid feature names, but KNeighborsClassifier was fitted with feature names\n",
      "  warnings.warn(\n"
     ]
    },
    {
     "data": {
      "text/plain": [
       "array(['adenocarcinoma'], dtype=object)"
      ]
     },
     "execution_count": 23,
     "metadata": {},
     "output_type": "execute_result"
    }
   ],
   "source": [
    "knn_clf.predict(X_test)"
   ]
  },
  {
   "cell_type": "code",
   "execution_count": 24,
   "id": "WY6IJcMkdVt0",
   "metadata": {
    "colab": {
     "base_uri": "https://localhost:8080/"
    },
    "id": "WY6IJcMkdVt0",
    "outputId": "c7a73b52-e074-4956-f1dd-15fa1936a57e"
   },
   "outputs": [
    {
     "data": {
      "text/plain": [
       "0.2028985507246377"
      ]
     },
     "execution_count": 24,
     "metadata": {},
     "output_type": "execute_result"
    }
   ],
   "source": [
    "knn_clf.score(X_train, y_train)"
   ]
  },
  {
   "cell_type": "code",
   "execution_count": 25,
   "id": "EoIjG3UkpLCz",
   "metadata": {
    "colab": {
     "base_uri": "https://localhost:8080/"
    },
    "id": "EoIjG3UkpLCz",
    "outputId": "636488a6-f2a1-4cae-9007-44ff33d64f64"
   },
   "outputs": [
    {
     "name": "stdout",
     "output_type": "stream",
     "text": [
      "5 Nearest Neighbors:\n",
      "Nearest Neighbors:\n",
      "     abdomen acute  abdominal bloating  abdominal tenderness  \\\n",
      "1                0                   0                     0   \n",
      "124              0                   0                     0   \n",
      "24               0                   0                     0   \n",
      "86               0                   0                     0   \n",
      "77               0                   0                     0   \n",
      "\n",
      "     abnormal sensation  abnormally hard consistency  abortion  \\\n",
      "1                     0                            0         0   \n",
      "124                   0                            0         0   \n",
      "24                    0                            0         0   \n",
      "86                    0                            0         0   \n",
      "77                    0                            0         0   \n",
      "\n",
      "     abscess bacterial  absences finding  achalasia  ache  ...  \\\n",
      "1                    0                 0          0     0  ...   \n",
      "124                  0                 0          0     0  ...   \n",
      "24                   0                 0          0     0  ...   \n",
      "86                   0                 0          0     0  ...   \n",
      "77                   0                 0          0     0  ...   \n",
      "\n",
      "     vision blurred  vomiting  weepiness  weight gain  welt  wheelchair bound  \\\n",
      "1                 0         0          0            0     0                 0   \n",
      "124               0         0          0            0     0                 0   \n",
      "24                0         0          0            0     0                 0   \n",
      "86                0         0          0            0     0                 0   \n",
      "77                0         0          0            0     0                 0   \n",
      "\n",
      "     wheezing  withdraw  worry  yellow sputum  \n",
      "1           0         0      0              0  \n",
      "124         0         0      0              0  \n",
      "24          0         0      0              0  \n",
      "86          0         0      0              0  \n",
      "77          0         0      0              0  \n",
      "\n",
      "[5 rows x 400 columns]\n",
      "Disease: 1           adenocarcinoma\n",
      "124    malignant neoplasms\n",
      "24         decubitus ulcer\n",
      "86     neoplasm metastasis\n",
      "77      lymphatic diseases\n",
      "Name: Disease, dtype: object\n"
     ]
    },
    {
     "name": "stderr",
     "output_type": "stream",
     "text": [
      "C:\\Users\\Kunal\\AppData\\Roaming\\Python\\Python312\\site-packages\\sklearn\\base.py:465: UserWarning: X does not have valid feature names, but KNeighborsClassifier was fitted with feature names\n",
      "  warnings.warn(\n"
     ]
    }
   ],
   "source": [
    " # Replace with your own set of symptoms\n",
    "distances, indices = knn_clf.kneighbors(X_test, n_neighbors=5)\n",
    "\n",
    "# Print the 5 nearest neighbors\n",
    "print('5 Nearest Neighbors:')\n",
    "print('Nearest Neighbors:')\n",
    "for index in indices:\n",
    "    print(X_train.iloc[index])\n",
    "    print('Disease:', y_train.iloc[index])"
   ]
  },
  {
   "cell_type": "code",
   "execution_count": 29,
   "id": "fZqQiUl_x1mN",
   "metadata": {
    "colab": {
     "base_uri": "https://localhost:8080/"
    },
    "id": "fZqQiUl_x1mN",
    "outputId": "01e7e418-609a-4077-9f34-17048e992509"
   },
   "outputs": [
    {
     "name": "stdout",
     "output_type": "stream",
     "text": [
      " * Serving Flask app '__main__'\n",
      " * Debug mode: on\n"
     ]
    },
    {
     "name": "stderr",
     "output_type": "stream",
     "text": [
      "WARNING: This is a development server. Do not use it in a production deployment. Use a production WSGI server instead.\n",
      " * Running on http://127.0.0.1:5000\n",
      "Press CTRL+C to quit\n",
      " * Restarting with watchdog (windowsapi)\n"
     ]
    },
    {
     "ename": "SystemExit",
     "evalue": "1",
     "output_type": "error",
     "traceback": [
      "An exception has occurred, use %tb to see the full traceback.\n",
      "\u001b[1;31mSystemExit\u001b[0m\u001b[1;31m:\u001b[0m 1\n"
     ]
    }
   ],
   "source": [
    "from flask import Flask, request, jsonify\n",
    "import pandas as pd\n",
    "from sklearn.neighbors import KNeighborsClassifier\n",
    "from sklearn.preprocessing import StandardScaler\n",
    "\n",
    "# Create a Flask application\n",
    "app = Flask(__name__)\n",
    "\n",
    "@app.route('/')\n",
    "def hello():\n",
    "    return 'Hello, World!'\n",
    "@app.route('/predict', methods=['POST'])\n",
    "def predict():\n",
    "    data = request.get_json()\n",
    "    y_pred = knn_clf.predict(X_test)\n",
    "    return jsonify({'prediction': y_pred[0]})\n",
    "    \n",
    "if __name__ == '__main__':\n",
    "    app.run(debug = True)\n"
   ]
  },
  {
   "cell_type": "code",
   "execution_count": null,
   "id": "-49qghLSBn0Z",
   "metadata": {
    "id": "-49qghLSBn0Z"
   },
   "outputs": [],
   "source": []
  },
  {
   "cell_type": "code",
   "execution_count": null,
   "id": "0e021b78-5f47-45f9-9bae-c00efe364719",
   "metadata": {},
   "outputs": [],
   "source": []
  }
 ],
 "metadata": {
  "colab": {
   "provenance": []
  },
  "kernelspec": {
   "display_name": "Python 3 (ipykernel)",
   "language": "python",
   "name": "python3"
  },
  "language_info": {
   "codemirror_mode": {
    "name": "ipython",
    "version": 3
   },
   "file_extension": ".py",
   "mimetype": "text/x-python",
   "name": "python",
   "nbconvert_exporter": "python",
   "pygments_lexer": "ipython3",
   "version": "3.12.4"
  }
 },
 "nbformat": 4,
 "nbformat_minor": 5
}
